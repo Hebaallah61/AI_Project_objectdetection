{
  "nbformat": 4,
  "nbformat_minor": 0,
  "metadata": {
    "colab": {
      "name": "hebaallah2.ipynb",
      "provenance": [],
      "mount_file_id": "1rMYZg42buQKTNtu5jT7DsTR2QfXOASzk",
      "authorship_tag": "ABX9TyOIDWFc4FnH8x0SJjh5AGTu",
      "include_colab_link": true
    },
    "kernelspec": {
      "name": "python3",
      "display_name": "Python 3"
    },
    "language_info": {
      "name": "python"
    },
    "accelerator": "GPU"
  },
  "cells": [
    {
      "cell_type": "markdown",
      "metadata": {
        "id": "view-in-github",
        "colab_type": "text"
      },
      "source": [
        "<a href=\"https://colab.research.google.com/github/Hebaallah61/AI_Project_objectdetection/blob/main/hebaallah2.ipynb\" target=\"_parent\"><img src=\"https://colab.research.google.com/assets/colab-badge.svg\" alt=\"Open In Colab\"/></a>"
      ]
    },
    {
      "cell_type": "code",
      "metadata": {
        "id": "PmcUWbymfw_9"
      },
      "source": [
        "from __future__ import print_function\n",
        "import keras  \n",
        "from keras.datasets import mnist \n",
        "from keras.models import Sequential #sequential model of nn\n",
        "from keras.layers import Dense,Flatten,Dropout #layers\n",
        "from keras.layers import Conv2D,MaxPool2D #conventional neural network\n",
        "from keras import backend as k # called keras as k"
      ],
      "execution_count": null,
      "outputs": []
    },
    {
      "cell_type": "code",
      "metadata": {
        "id": "muDdK6E9nNxz"
      },
      "source": [
        "batch_size=100\n",
        "num_classes=10\n",
        "epochs=12"
      ],
      "execution_count": null,
      "outputs": []
    },
    {
      "cell_type": "code",
      "metadata": {
        "id": "6bRfIiwEh_IQ"
      },
      "source": [
        "img_rows ,img_columns=28,28\n",
        "(x_train,y_train),(x_test,y_test)=mnist.load_data()"
      ],
      "execution_count": null,
      "outputs": []
    },
    {
      "cell_type": "code",
      "metadata": {
        "colab": {
          "base_uri": "https://localhost:8080/"
        },
        "id": "YbKX391cn6_u",
        "outputId": "cdd4c7b9-48e6-41a8-d2e7-cbc406cdd350"
      },
      "source": [
        "\n",
        "#preprocessing data (scalling,normalization,convert to binary classes)\n",
        "if k.image_data_format()=='channels_first': # scalling for data\n",
        "  x_train=x_train.reshape(x_train.shape[0],1,img_rows,img_columns)\n",
        "  x_test=x_test.reshape(x_test.shape[0],1,img_rows,img_columns)\n",
        "  input_shape=(1,img_rows,img_columns)\n",
        "else:\n",
        "  x_train=x_train.reshape(x_train.shape[0],1,img_rows,img_columns)\n",
        "  x_test=x_test.reshape(x_test.shape[0],1,img_rows,img_columns)\n",
        "  input_shape=(1,img_rows,img_columns)# channel 1 mean gray scalled\n",
        "#normalization for data \n",
        "x_train=x_train/255.0\n",
        "x_test=x_test/255.0\n",
        "print('x_train shap:',x_train.shape)\n",
        "print('x_test shap:',x_test.shape)\n",
        "\n",
        "# convert class vectors(classes of clothes) to binary class metices\n",
        "y_train=keras.utils.np_utils.to_categorical(y_train,num_classes)\n",
        "y_test=keras.utils.np_utils.to_categorical(y_test,num_classes)"
      ],
      "execution_count": null,
      "outputs": [
        {
          "output_type": "stream",
          "name": "stdout",
          "text": [
            "x_train shap: (60000, 1, 28, 28)\n",
            "x_test shap: (10000, 1, 28, 28)\n"
          ]
        }
      ]
    },
    {
      "cell_type": "code",
      "metadata": {
        "colab": {
          "base_uri": "https://localhost:8080/"
        },
        "id": "k2g7jkDqqR2v",
        "outputId": "bcdb5f5f-355d-4ea3-d1b8-9710b5dfba25"
      },
      "source": [
        "#craete model\n",
        "model=Sequential()\n",
        "#first layer (convolutional layer,input layer)\n",
        "model.add(Conv2D(32, (3,3), activation='relu', input_shape=input_shape, data_format='channels_first')) # 32 the number of filters,relu for all layers except output layer\n",
        "model.add(Conv2D(64,(3,3),activation='relu'))\n",
        "#max pool layer\n",
        "model.add(MaxPool2D(pool_size=(2,2))) #2,2 size of pixels array\n",
        "model.add(Flatten()) # important function to make one dimention and ignore the others \n",
        "model.add(Dense(128,activation='relu'))# 128 number of neurns\n",
        "#output layer\n",
        "model.add(Dense(num_classes,activation='softmax'))# num of neurns=number of classes=10, softmax to make binary classification\n",
        "model.summary()\n",
        "#1- 26,26 the kernal subtract from 32 -3=26 \n",
        "#2= again subtract 26-3= 24\n",
        "#3-pooling divided\n",
        "#4-flatten remove dimention\n",
        "#5-128 neurn ,6= 10neurn in soft max"
      ],
      "execution_count": null,
      "outputs": [
        {
          "output_type": "stream",
          "name": "stdout",
          "text": [
            "Model: \"sequential_31\"\n",
            "_________________________________________________________________\n",
            "Layer (type)                 Output Shape              Param #   \n",
            "=================================================================\n",
            "conv2d_24 (Conv2D)           (None, 32, 26, 26)        320       \n",
            "_________________________________________________________________\n",
            "conv2d_25 (Conv2D)           (None, 30, 24, 64)        15040     \n",
            "_________________________________________________________________\n",
            "max_pooling2d_5 (MaxPooling2 (None, 15, 12, 64)        0         \n",
            "_________________________________________________________________\n",
            "flatten_5 (Flatten)          (None, 11520)             0         \n",
            "_________________________________________________________________\n",
            "dense_10 (Dense)             (None, 128)               1474688   \n",
            "_________________________________________________________________\n",
            "dense_11 (Dense)             (None, 10)                1290      \n",
            "=================================================================\n",
            "Total params: 1,491,338\n",
            "Trainable params: 1,491,338\n",
            "Non-trainable params: 0\n",
            "_________________________________________________________________\n"
          ]
        }
      ]
    },
    {
      "cell_type": "code",
      "metadata": {
        "colab": {
          "base_uri": "https://localhost:8080/"
        },
        "id": "ctBxfamYAxd1",
        "outputId": "fec3e391-1292-4f8f-e194-e927674ddf6e"
      },
      "source": [
        "model.compile(loss=keras.losses.categorical_crossentropy\n",
        "              ,optimizer='adam'\n",
        "              ,metrics=['accuracy'])\n",
        "model.fit(x_train,y_train,batch_size=batch_size,\n",
        "          epochs=epochs,\n",
        "          verbose=1,\n",
        "          validation_data=(x_test,y_test))"
      ],
      "execution_count": 78,
      "outputs": [
        {
          "output_type": "stream",
          "name": "stdout",
          "text": [
            "Epoch 1/12\n",
            "600/600 [==============================] - 39s 16ms/step - loss: 0.1987 - accuracy: 0.9415 - val_loss: 0.0546 - val_accuracy: 0.9820\n",
            "Epoch 2/12\n",
            "600/600 [==============================] - 9s 15ms/step - loss: 0.0562 - accuracy: 0.9825 - val_loss: 0.0375 - val_accuracy: 0.9878\n",
            "Epoch 3/12\n",
            "600/600 [==============================] - 9s 16ms/step - loss: 0.0356 - accuracy: 0.9891 - val_loss: 0.0429 - val_accuracy: 0.9856\n",
            "Epoch 4/12\n",
            "600/600 [==============================] - 9s 15ms/step - loss: 0.0247 - accuracy: 0.9925 - val_loss: 0.0312 - val_accuracy: 0.9895\n",
            "Epoch 5/12\n",
            "600/600 [==============================] - 9s 15ms/step - loss: 0.0170 - accuracy: 0.9945 - val_loss: 0.0361 - val_accuracy: 0.9891\n",
            "Epoch 6/12\n",
            "600/600 [==============================] - 9s 16ms/step - loss: 0.0131 - accuracy: 0.9957 - val_loss: 0.0392 - val_accuracy: 0.9881\n",
            "Epoch 7/12\n",
            "600/600 [==============================] - 9s 15ms/step - loss: 0.0105 - accuracy: 0.9966 - val_loss: 0.0357 - val_accuracy: 0.9892\n",
            "Epoch 8/12\n",
            "600/600 [==============================] - 9s 15ms/step - loss: 0.0091 - accuracy: 0.9970 - val_loss: 0.0309 - val_accuracy: 0.9901\n",
            "Epoch 9/12\n",
            "600/600 [==============================] - 9s 16ms/step - loss: 0.0078 - accuracy: 0.9975 - val_loss: 0.0433 - val_accuracy: 0.9871\n",
            "Epoch 10/12\n",
            "600/600 [==============================] - 9s 16ms/step - loss: 0.0055 - accuracy: 0.9980 - val_loss: 0.0408 - val_accuracy: 0.9884\n",
            "Epoch 11/12\n",
            "600/600 [==============================] - 9s 15ms/step - loss: 0.0061 - accuracy: 0.9979 - val_loss: 0.0373 - val_accuracy: 0.9892\n",
            "Epoch 12/12\n",
            "600/600 [==============================] - 9s 16ms/step - loss: 0.0056 - accuracy: 0.9980 - val_loss: 0.0416 - val_accuracy: 0.9888\n"
          ]
        },
        {
          "output_type": "execute_result",
          "data": {
            "text/plain": [
              "<keras.callbacks.History at 0x7f22b0340810>"
            ]
          },
          "metadata": {},
          "execution_count": 78
        }
      ]
    },
    {
      "cell_type": "code",
      "metadata": {
        "colab": {
          "base_uri": "https://localhost:8080/"
        },
        "id": "b3wiLq9nGmBY",
        "outputId": "085ef228-8431-4fa7-9808-019831b6f473"
      },
      "source": [
        "score=model.evaluate(x_test,y_test,verbose=0)\n",
        "print('test loss',score[0])\n",
        "print('test accuracy',score[1])"
      ],
      "execution_count": 79,
      "outputs": [
        {
          "output_type": "stream",
          "name": "stdout",
          "text": [
            "test loss 0.04159849137067795\n",
            "test accuracy 0.9887999892234802\n"
          ]
        }
      ]
    },
    {
      "cell_type": "code",
      "metadata": {
        "colab": {
          "base_uri": "https://localhost:8080/"
        },
        "id": "P1gUbjFlHd5A",
        "outputId": "f1ddad81-2a59-4b12-b81d-f83452fbc5be"
      },
      "source": [
        "model.save('model.h5')\n",
        "print('saved')"
      ],
      "execution_count": 80,
      "outputs": [
        {
          "output_type": "stream",
          "name": "stdout",
          "text": [
            "saved\n"
          ]
        }
      ]
    }
  ]
}