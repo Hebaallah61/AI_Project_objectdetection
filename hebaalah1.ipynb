{
  "nbformat": 4,
  "nbformat_minor": 0,
  "metadata": {
    "colab": {
      "name": "hebaalah1.ipynb",
      "provenance": [],
      "mount_file_id": "10H5rxl6nL-mN4iKt5hFsZJs1GUfyzIap",
      "authorship_tag": "ABX9TyPEyqHGmqhiFG8fUtnsJvJa",
      "include_colab_link": true
    },
    "kernelspec": {
      "name": "python3",
      "display_name": "Python 3"
    },
    "language_info": {
      "name": "python"
    },
    "accelerator": "GPU"
  },
  "cells": [
    {
      "cell_type": "markdown",
      "metadata": {
        "id": "view-in-github",
        "colab_type": "text"
      },
      "source": [
        "<a href=\"https://colab.research.google.com/github/Hebaallah61/AI_Project_objectdetection/blob/main/hebaalah1.ipynb\" target=\"_parent\"><img src=\"https://colab.research.google.com/assets/colab-badge.svg\" alt=\"Open In Colab\"/></a>"
      ]
    },
    {
      "cell_type": "code",
      "metadata": {
        "colab": {
          "base_uri": "https://localhost:8080/"
        },
        "id": "0BY0ljslBoQ3",
        "outputId": "223ab946-7f32-4dde-9846-585a09de95bc"
      },
      "source": [
        "import tensorflow as tf\n",
        "print(tf.__version__)"
      ],
      "execution_count": 2,
      "outputs": [
        {
          "output_type": "stream",
          "name": "stdout",
          "text": [
            "2.6.0\n"
          ]
        }
      ]
    },
    {
      "cell_type": "code",
      "metadata": {
        "id": "uZN1nPS5Cj_4"
      },
      "source": [
        "from tensorflow import keras"
      ],
      "execution_count": 3,
      "outputs": []
    },
    {
      "cell_type": "code",
      "metadata": {
        "id": "ZtcXKKdrCrkI"
      },
      "source": [
        "minist=tf.keras.datasets.fashion_mnist"
      ],
      "execution_count": 4,
      "outputs": []
    },
    {
      "cell_type": "code",
      "metadata": {
        "colab": {
          "base_uri": "https://localhost:8080/"
        },
        "id": "OGnAiU_tDSzm",
        "outputId": "5da74a93-940f-4311-8483-756fd1d81a9e"
      },
      "source": [
        "(training_img,training__label),(testing_img,testing_label)=minist.load_data()"
      ],
      "execution_count": 5,
      "outputs": [
        {
          "output_type": "stream",
          "name": "stdout",
          "text": [
            "Downloading data from https://storage.googleapis.com/tensorflow/tf-keras-datasets/train-labels-idx1-ubyte.gz\n",
            "32768/29515 [=================================] - 0s 0us/step\n",
            "40960/29515 [=========================================] - 0s 0us/step\n",
            "Downloading data from https://storage.googleapis.com/tensorflow/tf-keras-datasets/train-images-idx3-ubyte.gz\n",
            "26427392/26421880 [==============================] - 0s 0us/step\n",
            "26435584/26421880 [==============================] - 0s 0us/step\n",
            "Downloading data from https://storage.googleapis.com/tensorflow/tf-keras-datasets/t10k-labels-idx1-ubyte.gz\n",
            "16384/5148 [===============================================================================================] - 0s 0us/step\n",
            "Downloading data from https://storage.googleapis.com/tensorflow/tf-keras-datasets/t10k-images-idx3-ubyte.gz\n",
            "4423680/4422102 [==============================] - 0s 0us/step\n",
            "4431872/4422102 [==============================] - 0s 0us/step\n"
          ]
        }
      ]
    },
    {
      "cell_type": "code",
      "metadata": {
        "id": "1RfNG1iLD9zq"
      },
      "source": [
        "class_names=['t-shirt','trouser','pullover','dress','coat','sandal','shirt','sneaker','bag','ankle bot']"
      ],
      "execution_count": 6,
      "outputs": []
    },
    {
      "cell_type": "code",
      "metadata": {
        "colab": {
          "base_uri": "https://localhost:8080/"
        },
        "id": "ilzKA-XNEm9t",
        "outputId": "f8becfae-8c20-4492-bd84-f04607447c5e"
      },
      "source": [
        "training_img.shape"
      ],
      "execution_count": 7,
      "outputs": [
        {
          "output_type": "execute_result",
          "data": {
            "text/plain": [
              "(60000, 28, 28)"
            ]
          },
          "metadata": {},
          "execution_count": 7
        }
      ]
    },
    {
      "cell_type": "code",
      "metadata": {
        "colab": {
          "base_uri": "https://localhost:8080/"
        },
        "id": "RMFJtayrEwjB",
        "outputId": "c966ce6d-daeb-4471-c8c8-fbe5250843e4"
      },
      "source": [
        "training__label.shape"
      ],
      "execution_count": 8,
      "outputs": [
        {
          "output_type": "execute_result",
          "data": {
            "text/plain": [
              "(60000,)"
            ]
          },
          "metadata": {},
          "execution_count": 8
        }
      ]
    },
    {
      "cell_type": "code",
      "metadata": {
        "colab": {
          "base_uri": "https://localhost:8080/"
        },
        "id": "NHs8Ms3gEwrv",
        "outputId": "c3f7b74e-2d2b-4777-ddb9-106edceb9f1a"
      },
      "source": [
        "testing_img.shape"
      ],
      "execution_count": 15,
      "outputs": [
        {
          "output_type": "execute_result",
          "data": {
            "text/plain": [
              "(10000, 28, 28)"
            ]
          },
          "metadata": {},
          "execution_count": 15
        }
      ]
    },
    {
      "cell_type": "code",
      "metadata": {
        "colab": {
          "base_uri": "https://localhost:8080/"
        },
        "id": "cYgIO22VExY5",
        "outputId": "0d2850c0-03a7-44c2-a36f-9c19521cffef"
      },
      "source": [
        "testing_label.shape"
      ],
      "execution_count": 12,
      "outputs": [
        {
          "output_type": "execute_result",
          "data": {
            "text/plain": [
              "(10000,)"
            ]
          },
          "metadata": {},
          "execution_count": 12
        }
      ]
    },
    {
      "cell_type": "code",
      "metadata": {
        "colab": {
          "base_uri": "https://localhost:8080/",
          "height": 282
        },
        "id": "1RqyEwexFB_S",
        "outputId": "5b465ff9-f128-4a2a-8057-a66c66506c96"
      },
      "source": [
        "import matplotlib.pyplot as plt\n",
        "plt.figure() # draw in x axis and y axis\n",
        "plt.imshow(training_img[0]) # first img in data set\n",
        "plt.colorbar() # draw with color\n",
        "plt.grid(False) # dont make it pixels\n",
        "plt.show"
      ],
      "execution_count": 14,
      "outputs": [
        {
          "output_type": "execute_result",
          "data": {
            "text/plain": [
              "<function matplotlib.pyplot.show>"
            ]
          },
          "metadata": {},
          "execution_count": 14
        },
        {
          "output_type": "display_data",
          "data": {
            "image/png": "[encoded data removed]",
            "text/plain": [
              "<Figure size 432x288 with 2 Axes>"
            ]
          },
          "metadata": {
            "needs_background": "light"
          }
        }
      ]
    },
    {
      "cell_type": "code",
      "metadata": {
        "id": "hyrwodWuGf-3"
      },
      "source": [
        "# make normalization that mean make mean between 0 and 1 \n",
        "#integer from 0 and 255 and float between 0 and 1\n",
        "training_img=training_img/255.0\n",
        "testing_img=testing_img/255.0"
      ],
      "execution_count": 16,
      "outputs": []
    },
    {
      "cell_type": "code",
      "metadata": {
        "colab": {
          "base_uri": "https://localhost:8080/",
          "height": 589
        },
        "id": "Pe5Js2B5HaHb",
        "outputId": "923e5a28-03a2-4c46-f089-69bdd157e646"
      },
      "source": [
        "plt.figure(figsize=(10,10)) # 10px * 10 px\n",
        "for i in range(25): # show 25 img \n",
        "  plt.subplot(5,5,i+1) # draw each image alone in area 5*5 and index i+1\n",
        "  plt.xticks([])# like xlabel\n",
        "  plt.yticks([])#like y label\n",
        "  plt.grid(False)\n",
        "  plt.imshow(training_img[i],cmap=plt.cm.binary) #show image from index i and cmap map colores in img and binary will apear 0or 1 no colores\n",
        "  plt.xlabel(class_names[training__label[i]]) # show name oof image\n",
        "plt.show()"
      ],
      "execution_count": 20,
      "outputs": [
        {
          "output_type": "display_data",
          "data": {
            "image/png": "[encoded data removed]",
            "text/plain": [
              "<Figure size 720x720 with 25 Axes>"
            ]
          },
          "metadata": {}
        }
      ]
    },
    {
      "cell_type": "code",
      "metadata": {
        "id": "F7NyY59EMd29"
      },
      "source": [
        "model=keras.Sequential([keras.layers.Flatten(input_shape=(28,28)),\n",
        "                        keras.layers.Dense(128,activation='relu'),\n",
        "                        keras.layers.Dense(10,activation='softmax')])\n",
        "#flatten it is input layer take batch , chanales =0 the size of image is 28,28\n",
        "#Dense (neurn)its is hidden layer we will make 128 neurn\n",
        "#the last layer of the classification \n"
      ],
      "execution_count": 23,
      "outputs": []
    },
    {
      "cell_type": "code",
      "metadata": {
        "colab": {
          "base_uri": "https://localhost:8080/"
        },
        "id": "YQlKzbZLPuaI",
        "outputId": "eb290e2a-38e2-4c44-a648-7faf105460a3"
      },
      "source": [
        "model.compile(optimizer='adam',\n",
        "              loss='sparse_categorical_crossentropy',\n",
        "              metrics=['accuracy'])\n",
        "\n",
        "model.fit(training_img,training__label,epochs=10) # epoch عدد اللفات على الداتا ست كلها "
      ],
      "execution_count": 26,
      "outputs": [
        {
          "output_type": "stream",
          "name": "stdout",
          "text": [
            "Epoch 1/10\n",
            "1875/1875 [==============================] - 7s 2ms/step - loss: 0.5011 - accuracy: 0.8242\n",
            "Epoch 2/10\n",
            "1875/1875 [==============================] - 4s 2ms/step - loss: 0.3768 - accuracy: 0.8653\n",
            "Epoch 3/10\n",
            "1875/1875 [==============================] - 4s 2ms/step - loss: 0.3382 - accuracy: 0.8769\n",
            "Epoch 4/10\n",
            "1875/1875 [==============================] - 4s 2ms/step - loss: 0.3134 - accuracy: 0.8856\n",
            "Epoch 5/10\n",
            "1875/1875 [==============================] - 4s 2ms/step - loss: 0.2944 - accuracy: 0.8915\n",
            "Epoch 6/10\n",
            "1875/1875 [==============================] - 4s 2ms/step - loss: 0.2796 - accuracy: 0.8969\n",
            "Epoch 7/10\n",
            "1875/1875 [==============================] - 4s 2ms/step - loss: 0.2687 - accuracy: 0.8997\n",
            "Epoch 8/10\n",
            "1875/1875 [==============================] - 4s 2ms/step - loss: 0.2567 - accuracy: 0.9043\n",
            "Epoch 9/10\n",
            "1875/1875 [==============================] - 4s 2ms/step - loss: 0.2461 - accuracy: 0.9071\n",
            "Epoch 10/10\n",
            "1875/1875 [==============================] - 4s 2ms/step - loss: 0.2396 - accuracy: 0.9103\n"
          ]
        },
        {
          "output_type": "execute_result",
          "data": {
            "text/plain": [
              "<keras.callbacks.History at 0x7f20a8472c50>"
            ]
          },
          "metadata": {},
          "execution_count": 26
        }
      ]
    },
    {
      "cell_type": "code",
      "metadata": {
        "colab": {
          "base_uri": "https://localhost:8080/"
        },
        "id": "j5GW2v6-Rkh6",
        "outputId": "fbe1e2f7-81ea-45aa-cb00-c4866da7e115"
      },
      "source": [
        "test_loss,test_accuracy=model.evaluate(testing_img,testing_label,verbose=2)\n",
        "print('\\n accuracy=',test_accuracy)"
      ],
      "execution_count": 27,
      "outputs": [
        {
          "output_type": "stream",
          "name": "stdout",
          "text": [
            "313/313 - 1s - loss: 0.3271 - accuracy: 0.8824\n",
            "\n",
            " accuracy= 0.8823999762535095\n"
          ]
        }
      ]
    },
    {
      "cell_type": "code",
      "metadata": {
        "colab": {
          "base_uri": "https://localhost:8080/"
        },
        "id": "GoGMJBbxSdqG",
        "outputId": "fb053c93-1648-4ebc-fcf4-98b233ff328f"
      },
      "source": [
        "import numpy as np\n",
        "predict=model.predict(testing_img)\n",
        "np.argmax(predict[0])"
      ],
      "execution_count": 29,
      "outputs": [
        {
          "output_type": "execute_result",
          "data": {
            "text/plain": [
              "9"
            ]
          },
          "metadata": {},
          "execution_count": 29
        }
      ]
    }
  ]
}